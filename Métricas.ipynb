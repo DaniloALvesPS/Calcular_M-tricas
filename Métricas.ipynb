{
  "nbformat": 4,
  "nbformat_minor": 0,
  "metadata": {
    "colab": {
      "provenance": []
    },
    "kernelspec": {
      "name": "python3",
      "display_name": "Python 3"
    },
    "language_info": {
      "name": "python"
    }
  },
  "cells": [
    {
      "cell_type": "code",
      "execution_count": 1,
      "metadata": {
        "id": "GF0oIxgMwzQ7"
      },
      "outputs": [],
      "source": [
        "def calcular_metricas(vp, vn, fp, fn):\n",
        "    # Acurácia\n",
        "    acuracia = (vp + vn) / (vp + vn + fp + fn)\n",
        "    \n",
        "    # Sensibilidade ou Recall\n",
        "    sensibilidade = vp / (vp + fn)\n",
        "    \n",
        "    # Especificidade\n",
        "    especificidade = vn / (vn + fp)\n",
        "    \n",
        "    # Precisão\n",
        "    precisao = vp / (vp + fp)\n",
        "    \n",
        "    # F-score\n",
        "    f_score = 2 * ((precisao * sensibilidade) / (precisao + sensibilidade))\n",
        "    \n",
        "    return acuracia, sensibilidade, especificidade, precisao, f_score"
      ]
    },
    {
      "cell_type": "code",
      "source": [],
      "metadata": {
        "id": "HkjquBzsnsCj"
      },
      "execution_count": null,
      "outputs": []
    },
    {
      "cell_type": "code",
      "source": [
        "vp = 50\n",
        "vn = 100\n",
        "fp = 20\n",
        "fn = 30\n",
        "\n",
        "acuracia, sensibilidade, especificidade, precisao, f_score = calcular_metricas(vp, vn, fp, fn)\n",
        "\n",
        "print(\"Acurácia: \", acuracia)\n",
        "print(\"Sensibilidade: \", sensibilidade)\n",
        "print(\"Especificidade: \", especificidade)\n",
        "print(\"Precisão: \", precisao)\n",
        "print(\"F-score: \", f_score)\n"
      ],
      "metadata": {
        "colab": {
          "base_uri": "https://localhost:8080/"
        },
        "id": "ENpB75UKw-wQ",
        "outputId": "97a0eb52-a2cd-4084-e585-e653356e683d"
      },
      "execution_count": 2,
      "outputs": [
        {
          "output_type": "stream",
          "name": "stdout",
          "text": [
            "Acurácia:  0.75\n",
            "Sensibilidade:  0.625\n",
            "Especificidade:  0.8333333333333334\n",
            "Precisão:  0.7142857142857143\n",
            "F-score:  0.6666666666666666\n"
          ]
        }
      ]
    },
    {
      "cell_type": "code",
      "source": [],
      "metadata": {
        "id": "C62amC-ylmGy"
      },
      "execution_count": null,
      "outputs": []
    }
  ]
}